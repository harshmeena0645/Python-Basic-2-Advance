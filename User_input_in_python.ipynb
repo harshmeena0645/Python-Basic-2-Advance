{
 "cells": [
  {
   "cell_type": "code",
   "execution_count": 3,
   "id": "822f7a41",
   "metadata": {},
   "outputs": [
    {
     "name": "stdout",
     "output_type": "stream",
     "text": [
      "F :5\n",
      "l :6\n",
      "11\n"
     ]
    }
   ],
   "source": [
    "f = input(\"F :\")\n",
    "l = input(\"l :\")\n",
    "name = int(f) + int(l)\n",
    "print(name)"
   ]
  },
  {
   "cell_type": "code",
   "execution_count": 4,
   "id": "c25071bf",
   "metadata": {},
   "outputs": [
    {
     "name": "stdout",
     "output_type": "stream",
     "text": [
      "a:5\n",
      "b:8\n",
      "13\n"
     ]
    }
   ],
   "source": [
    "a=int(input(\"a:\"))\n",
    "b=int(input(\"b:\"))\n",
    "print(a+b)"
   ]
  },
  {
   "cell_type": "markdown",
   "id": "697450fc-67ae-4341-9ac3-eb83770a1acc",
   "metadata": {},
   "source": [
    "# Distance b/w two points"
   ]
  },
  {
   "cell_type": "code",
   "execution_count": 5,
   "id": "a611dd6b-8cde-474c-8592-ca554658fcf7",
   "metadata": {},
   "outputs": [
    {
     "name": "stdout",
     "output_type": "stream",
     "text": [
      "x Point: 5\n",
      "y Point: 9\n",
      "Distane b/w two point is : 4\n"
     ]
    }
   ],
   "source": [
    "x=int(input(\"x Point: \"))\n",
    "y=int(input(\"y Point: \"))\n",
    "Distance=abs(y-x)\n",
    "print(\"Distane b/w two point is :\",Distance)"
   ]
  },
  {
   "cell_type": "code",
   "execution_count": 6,
   "id": "7e9b3b74-9576-46bd-9219-e876914f7691",
   "metadata": {},
   "outputs": [
    {
     "name": "stdout",
     "output_type": "stream",
     "text": [
      "x1 Point: 1\n",
      "y1 Point: 2\n",
      "x2 Point: 4\n",
      "y2 Point: 5\n",
      "Distane b/w two point is :4.242640687119285\n"
     ]
    }
   ],
   "source": [
    "import math\n",
    "x1=float(input(\"x1 Point: \"))\n",
    "y1=float(input(\"y1 Point: \"))\n",
    "x2=float(input(\"x2 Point: \"))\n",
    "y2=float(input(\"y2 Point: \"))\n",
    "Distance=math.sqrt((x2-x1)**2+(y2-y1)**2)\n",
    "print(f\"Distane b/w two point is :{Distance}\")"
   ]
  },
  {
   "cell_type": "code",
   "execution_count": null,
   "id": "d2093502-e076-4da6-af9e-1301f30d2bc4",
   "metadata": {},
   "outputs": [],
   "source": []
  }
 ],
 "metadata": {
  "kernelspec": {
   "display_name": "Python 3 (ipykernel)",
   "language": "python",
   "name": "python3"
  },
  "language_info": {
   "codemirror_mode": {
    "name": "ipython",
    "version": 3
   },
   "file_extension": ".py",
   "mimetype": "text/x-python",
   "name": "python",
   "nbconvert_exporter": "python",
   "pygments_lexer": "ipython3",
   "version": "3.11.3"
  }
 },
 "nbformat": 4,
 "nbformat_minor": 5
}
