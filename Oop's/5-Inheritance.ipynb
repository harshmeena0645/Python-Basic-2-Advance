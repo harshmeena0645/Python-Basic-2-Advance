{
 "cells": [
  {
   "cell_type": "markdown",
   "id": "e132bc1d",
   "metadata": {},
   "source": [
    "# Inheritance\n",
    "    Inheritance allows a child class to access properties and methods of a parent class.\n",
    "\n",
    "    It reduces code duplication and increases reusability."
   ]
  },
  {
   "cell_type": "markdown",
   "id": "1f2a7a8e",
   "metadata": {},
   "source": [
    "## 1. Single Level Inheritance\n",
    "    (Child class inherits from only one Parent class)"
   ]
  },
  {
   "cell_type": "code",
   "execution_count": 1,
   "id": "e2904eea",
   "metadata": {},
   "outputs": [
    {
     "name": "stdout",
     "output_type": "stream",
     "text": [
      "Animal Sound\n",
      "Dog Barks\n"
     ]
    }
   ],
   "source": [
    "class Animal:\n",
    "    def sound(self):\n",
    "        print(\"Animal Sound\")\n",
    "\n",
    "class Dog(Animal):\n",
    "    def bark(self):\n",
    "        print(\"Dog Barks\")\n",
    "\n",
    "obj = Dog()\n",
    "obj.sound()   # Accessing Parent Class Method\n",
    "obj.bark()    # Accessing Child Class Method\n"
   ]
  },
  {
   "cell_type": "markdown",
   "id": "78a80ea7",
   "metadata": {},
   "source": [
    "## 2. Multi-Level Inheritance\n",
    "    (Parent → Child → Grandchild)"
   ]
  },
  {
   "cell_type": "code",
   "execution_count": 3,
   "id": "188b15bf",
   "metadata": {},
   "outputs": [
    {
     "name": "stdout",
     "output_type": "stream",
     "text": [
      "Animal Sound\n",
      "Dog Barks\n",
      "Puppy Cries\n"
     ]
    }
   ],
   "source": [
    "class Animal:\n",
    "    def sound(self):\n",
    "        print(\"Animal Sound\")\n",
    "\n",
    "class Dog(Animal):\n",
    "    def bark(self):\n",
    "        print(\"Dog Barks\")\n",
    "\n",
    "class Puppy(Dog):\n",
    "    def cry(self):\n",
    "        print(\"Puppy Cries\")\n",
    "\n",
    "obj = Puppy()\n",
    "obj.sound()  # Grandparent Class Method\n",
    "obj.bark()   # Parent Class Method\n",
    "obj.cry()    # Child Class Method"
   ]
  },
  {
   "cell_type": "markdown",
   "id": "a7f0296e",
   "metadata": {},
   "source": [
    "## 3. Multiple Inheritance\n",
    "    (A child class inherits from more than one parent class)"
   ]
  },
  {
   "cell_type": "code",
   "execution_count": null,
   "id": "fced43de",
   "metadata": {},
   "outputs": [],
   "source": [
    "class Father:\n",
    "    def skill(self):\n",
    "        print(\"Father is a Businessman\")\n",
    "\n",
    "class Mother:\n",
    "    def talent(self):\n",
    "        print(\"Mother is a Dancer\")\n",
    "\n",
    "class Child(Father, Mother):\n",
    "    def hobby(self):\n",
    "        print(\"Child loves Coding\")\n",
    "\n",
    "obj = Child()\n",
    "obj.skill()   # From Father Class\n",
    "obj.talent()  # From Mother Class\n",
    "obj.hobby()   # From Child Class\n"
   ]
  },
  {
   "cell_type": "markdown",
   "id": "e8043906",
   "metadata": {},
   "source": [
    "## 4. Hierarchical Inheritance\n",
    "    (One parent class, multiple child classes)"
   ]
  },
  {
   "cell_type": "code",
   "execution_count": 4,
   "id": "1a7aad46",
   "metadata": {},
   "outputs": [
    {
     "name": "stdout",
     "output_type": "stream",
     "text": [
      "Animal Sound\n",
      "Dog Barks\n",
      "Animal Sound\n",
      "Cat Meows\n"
     ]
    }
   ],
   "source": [
    "class Animal:\n",
    "    def sound(self):\n",
    "        print(\"Animal Sound\")\n",
    "\n",
    "class Dog(Animal):\n",
    "    def bark(self):\n",
    "        print(\"Dog Barks\")\n",
    "\n",
    "class Cat(Animal):\n",
    "    def meow(self):\n",
    "        print(\"Cat Meows\")\n",
    "\n",
    "obj1 = Dog()\n",
    "obj2 = Cat()\n",
    "\n",
    "obj1.sound()  # Accessing Parent Class\n",
    "obj1.bark()   \n",
    "\n",
    "obj2.sound()  \n",
    "obj2.meow()  \n"
   ]
  },
  {
   "cell_type": "markdown",
   "id": "e84626ee",
   "metadata": {},
   "source": [
    "## 5. Hybrid Inheritance\n",
    "    (Combination of Multiple + Multi-Level Inheritance)"
   ]
  },
  {
   "cell_type": "code",
   "execution_count": 5,
   "id": "2e57aff9",
   "metadata": {},
   "outputs": [
    {
     "name": "stdout",
     "output_type": "stream",
     "text": [
      "Class A Method\n",
      "Class B Method\n",
      "Class C Method\n",
      "Class D Method\n"
     ]
    }
   ],
   "source": [
    "class A:\n",
    "    def methodA(self):\n",
    "        print(\"Class A Method\")\n",
    "\n",
    "class B(A):\n",
    "    def methodB(self):\n",
    "        print(\"Class B Method\")\n",
    "\n",
    "class C(A):\n",
    "    def methodC(self):\n",
    "        print(\"Class C Method\")\n",
    "\n",
    "class D(B, C):\n",
    "    def methodD(self):\n",
    "        print(\"Class D Method\")\n",
    "\n",
    "obj = D()\n",
    "obj.methodA()   # From Class A\n",
    "obj.methodB()   # From Class B\n",
    "obj.methodC()   # From Class C\n",
    "obj.methodD()   # From Class D"
   ]
  },
  {
   "cell_type": "code",
   "execution_count": null,
   "id": "6b8964f9",
   "metadata": {},
   "outputs": [],
   "source": []
  },
  {
   "cell_type": "markdown",
   "id": "2031e43c",
   "metadata": {},
   "source": [
    "Inheritance Type----------------Description          \n",
    "Single Level--------------------One parent, one child          \n",
    "Multi Level---------------------Parent → Child → Grandchild        \n",
    "Multiple------------------------One child, multiple parents          \n",
    "Hierarchical--------------------One parent, multiple children                 \n",
    "Hybrid--------------------------Combination of all types        "
   ]
  },
  {
   "cell_type": "code",
   "execution_count": null,
   "id": "ebc51085",
   "metadata": {},
   "outputs": [],
   "source": []
  }
 ],
 "metadata": {
  "kernelspec": {
   "display_name": "Python 3 (ipykernel)",
   "language": "python",
   "name": "python3"
  },
  "language_info": {
   "codemirror_mode": {
    "name": "ipython",
    "version": 3
   },
   "file_extension": ".py",
   "mimetype": "text/x-python",
   "name": "python",
   "nbconvert_exporter": "python",
   "pygments_lexer": "ipython3",
   "version": "3.11.3"
  }
 },
 "nbformat": 4,
 "nbformat_minor": 5
}
