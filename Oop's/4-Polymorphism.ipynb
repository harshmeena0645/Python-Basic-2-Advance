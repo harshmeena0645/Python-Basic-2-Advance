{
 "cells": [
  {
   "cell_type": "markdown",
   "id": "067d3dde",
   "metadata": {},
   "source": [
    "# Polymorphism\n",
    "    Polymorphism means \"Many Forms.\"\n",
    "    \n",
    "    It allows us to use a single function or method in different ways.\n",
    "    \n",
    "    Achieved through Method Overloading, Method Overriding, and Operator Overloading."
   ]
  },
  {
   "cell_type": "markdown",
   "id": "f5ac1ff6",
   "metadata": {},
   "source": [
    "## 1. Method Overloading"
   ]
  },
  {
   "cell_type": "code",
   "execution_count": 1,
   "id": "a831db14",
   "metadata": {},
   "outputs": [
    {
     "name": "stdout",
     "output_type": "stream",
     "text": [
      "30\n",
      "60\n"
     ]
    }
   ],
   "source": [
    "class Addition:\n",
    "    def add(self, a=None, b=None, c=None):\n",
    "        if a != None and b != None and c != None:\n",
    "            print(a + b + c)\n",
    "        elif a != None and b != None:\n",
    "            print(a + b)\n",
    "        else:\n",
    "            print(\"Invalid Input\")\n",
    "\n",
    "obj = Addition()\n",
    "obj.add(10, 20)         # Output: 30\n",
    "obj.add(10, 20, 30)     # Output: 60\n"
   ]
  },
  {
   "cell_type": "markdown",
   "id": "369c2c23",
   "metadata": {},
   "source": [
    "## 2. Method Overriding"
   ]
  },
  {
   "cell_type": "code",
   "execution_count": 2,
   "id": "5e9e8d2b",
   "metadata": {},
   "outputs": [
    {
     "name": "stdout",
     "output_type": "stream",
     "text": [
      "Dog Barks\n"
     ]
    }
   ],
   "source": [
    "class Animal:\n",
    "    def sound(self):\n",
    "        print(\"Animal Sound\")\n",
    "\n",
    "class Dog(Animal):\n",
    "    def sound(self):\n",
    "        print(\"Dog Barks\")\n",
    "\n",
    "obj = Dog()\n",
    "obj.sound()   # Output: Dog Barks"
   ]
  },
  {
   "cell_type": "markdown",
   "id": "4bb4481e",
   "metadata": {},
   "source": [
    "## 3. Operator Overloading"
   ]
  },
  {
   "cell_type": "code",
   "execution_count": 3,
   "id": "5a4e0611",
   "metadata": {},
   "outputs": [
    {
     "name": "stdout",
     "output_type": "stream",
     "text": [
      "30\n"
     ]
    }
   ],
   "source": [
    "class Number:\n",
    "    def __init__(self, value):\n",
    "        self.value = value\n",
    "\n",
    "    # Overloading + Operator\n",
    "    def __add__(self, other):\n",
    "        return self.value + other.value\n",
    "\n",
    "num1 = Number(10)\n",
    "num2 = Number(20)\n",
    "print(num1 + num2)    # Output: 30\n"
   ]
  },
  {
   "cell_type": "code",
   "execution_count": null,
   "id": "489b1d57",
   "metadata": {},
   "outputs": [],
   "source": []
  },
  {
   "cell_type": "markdown",
   "id": "907bf823",
   "metadata": {},
   "source": [
    "Type of Polymorphism-----------Example                                   \n",
    "Method Overloading-------------Same function name, different parameters               \n",
    "Method Overriding--------------Same method in parent and child class            \n",
    "Operator Overloading-----------Redefining operators like +, -, *           "
   ]
  },
  {
   "cell_type": "code",
   "execution_count": null,
   "id": "95d81b83",
   "metadata": {},
   "outputs": [],
   "source": []
  }
 ],
 "metadata": {
  "kernelspec": {
   "display_name": "Python 3 (ipykernel)",
   "language": "python",
   "name": "python3"
  },
  "language_info": {
   "codemirror_mode": {
    "name": "ipython",
    "version": 3
   },
   "file_extension": ".py",
   "mimetype": "text/x-python",
   "name": "python",
   "nbconvert_exporter": "python",
   "pygments_lexer": "ipython3",
   "version": "3.11.3"
  }
 },
 "nbformat": 4,
 "nbformat_minor": 5
}
