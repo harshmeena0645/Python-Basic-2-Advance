{
 "cells": [
  {
   "cell_type": "markdown",
   "id": "c5174b1e",
   "metadata": {},
   "source": [
    "# Abstraction\n",
    "    Abstraction means hiding unnecessary details and showing only the important features to the user.\n",
    "    \n",
    "    It is achieved using Abstract Classes and Abstract Methods."
   ]
  },
  {
   "cell_type": "code",
   "execution_count": 1,
   "id": "10c755e8",
   "metadata": {},
   "outputs": [
    {
     "name": "stdout",
     "output_type": "stream",
     "text": [
      "Tesla Started...\n",
      "Tesla Stopped...\n"
     ]
    }
   ],
   "source": [
    "from abc import ABC, abstractmethod\n",
    "\n",
    "# Abstract Class\n",
    "class Car(ABC):\n",
    "    \n",
    "    # Abstract Method (No Body, Only Declaration)\n",
    "    @abstractmethod\n",
    "    def start(self):\n",
    "        pass\n",
    "    \n",
    "    @abstractmethod\n",
    "    def stop(self):\n",
    "        pass\n",
    "\n",
    "# Derived Class (Child Class)\n",
    "class Tesla(Car):\n",
    "    \n",
    "    # Defining Abstract Methods\n",
    "    def start(self):\n",
    "        print(\"Tesla Started...\")\n",
    "        \n",
    "    def stop(self):\n",
    "        print(\"Tesla Stopped...\")\n",
    "\n",
    "# Object Creation\n",
    "obj = Tesla()\n",
    "obj.start()\n",
    "obj.stop()"
   ]
  },
  {
   "cell_type": "code",
   "execution_count": null,
   "id": "38ff0e0a",
   "metadata": {},
   "outputs": [],
   "source": []
  },
  {
   "cell_type": "markdown",
   "id": "a7c58387",
   "metadata": {},
   "source": [
    "ABC---------------Abstract Base Class             \n",
    "@abstractmethod---Used to create an abstract method           \n",
    "Tesla Class-------Implements the abstract methods of the Car class         "
   ]
  },
  {
   "cell_type": "code",
   "execution_count": null,
   "id": "3dbc9873",
   "metadata": {},
   "outputs": [],
   "source": []
  }
 ],
 "metadata": {
  "kernelspec": {
   "display_name": "Python 3 (ipykernel)",
   "language": "python",
   "name": "python3"
  },
  "language_info": {
   "codemirror_mode": {
    "name": "ipython",
    "version": 3
   },
   "file_extension": ".py",
   "mimetype": "text/x-python",
   "name": "python",
   "nbconvert_exporter": "python",
   "pygments_lexer": "ipython3",
   "version": "3.11.3"
  }
 },
 "nbformat": 4,
 "nbformat_minor": 5
}
