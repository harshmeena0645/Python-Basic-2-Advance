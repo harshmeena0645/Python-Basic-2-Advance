{
 "cells": [
  {
   "cell_type": "markdown",
   "id": "402b9325",
   "metadata": {},
   "source": [
    "# Class\n",
    "    A Class is a blueprint or template for creating objects.\n",
    "    \n",
    "    It contains attributes (variables) and methods (functions).\n",
    "    \n",
    "    Class does not occupy memory until an object is created."
   ]
  },
  {
   "cell_type": "code",
   "execution_count": 5,
   "id": "1c3bce4e",
   "metadata": {},
   "outputs": [],
   "source": [
    "class Car:\n",
    "    # Attributes (Variables)\n",
    "    brand = \"Tesla\"\n",
    "    \n",
    "    # Method (Function)\n",
    "    def start(self):\n",
    "        print(\"Car is Starting...\")"
   ]
  },
  {
   "cell_type": "code",
   "execution_count": null,
   "id": "4d89290b",
   "metadata": {},
   "outputs": [],
   "source": []
  },
  {
   "cell_type": "markdown",
   "id": "d115911e",
   "metadata": {},
   "source": [
    "# Object\n",
    "    Object is an instance of a class.\n",
    "    \n",
    "    It allows access to the class's variables and methods.\n",
    "    \n",
    "    Multiple objects can be created from a single class."
   ]
  },
  {
   "cell_type": "code",
   "execution_count": 6,
   "id": "4ac10056",
   "metadata": {},
   "outputs": [
    {
     "name": "stdout",
     "output_type": "stream",
     "text": [
      "Tesla\n",
      "Car is Starting...\n"
     ]
    }
   ],
   "source": [
    "# Creating an Object of Car Class\n",
    "obj = Car()\n",
    "\n",
    "# Accessing Attributes and Methods using Object\n",
    "print(obj.brand)   # Output: Tesla\n",
    "obj.start()        # Output: Car is Starting..."
   ]
  },
  {
   "cell_type": "code",
   "execution_count": null,
   "id": "73e49b5a",
   "metadata": {},
   "outputs": [],
   "source": []
  },
  {
   "cell_type": "markdown",
   "id": "33a24387",
   "metadata": {},
   "source": [
    "           Class (Car)\n",
    "       -------------------\n",
    "       | brand = Tesla |\n",
    "       | start()       |\n",
    "       -------------------\n",
    "                ↓\n",
    "          Object (obj)\n"
   ]
  },
  {
   "cell_type": "code",
   "execution_count": null,
   "id": "331111c6",
   "metadata": {},
   "outputs": [],
   "source": []
  },
  {
   "cell_type": "markdown",
   "id": "63c39350",
   "metadata": {},
   "source": [
    "# Class & Object"
   ]
  },
  {
   "cell_type": "code",
   "execution_count": 7,
   "id": "67e2695c",
   "metadata": {},
   "outputs": [
    {
     "name": "stdout",
     "output_type": "stream",
     "text": [
      "Tom Jerry Shoots Film\n",
      "Tom Jerry says how are You?\n"
     ]
    }
   ],
   "source": [
    "class Human:\n",
    "    def __init__(self,n,o):\n",
    "        self.name=n\n",
    "        self.occupation=o\n",
    "    def do_work(self):\n",
    "        if self.occupation==\"Tennis Player\":\n",
    "            print(self.name,\"Plays Tennis\")\n",
    "        elif self.occupation==\"actor\":\n",
    "            print(self.name,\"Shoots Film\")\n",
    "    def speaks(self):\n",
    "        print(self.name,\"says how are You?\")\n",
    "        \n",
    "tom=Human(\"Tom Jerry\",\"actor\")\n",
    "tom.do_work()\n",
    "tom.speaks()"
   ]
  },
  {
   "cell_type": "code",
   "execution_count": null,
   "id": "88750a43",
   "metadata": {},
   "outputs": [],
   "source": []
  }
 ],
 "metadata": {
  "kernelspec": {
   "display_name": "Python 3 (ipykernel)",
   "language": "python",
   "name": "python3"
  },
  "language_info": {
   "codemirror_mode": {
    "name": "ipython",
    "version": 3
   },
   "file_extension": ".py",
   "mimetype": "text/x-python",
   "name": "python",
   "nbconvert_exporter": "python",
   "pygments_lexer": "ipython3",
   "version": "3.11.3"
  }
 },
 "nbformat": 4,
 "nbformat_minor": 5
}
