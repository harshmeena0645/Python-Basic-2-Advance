{
 "cells": [
  {
   "cell_type": "markdown",
   "id": "9b821435",
   "metadata": {},
   "source": [
    "# Constructor\n",
    "    Automatically allocates memory for the object.\n",
    "    \n",
    "    Initializes object data when created.\n",
    "    \n",
    "    Reduces code redundancy."
   ]
  },
  {
   "cell_type": "markdown",
   "id": "463a3f88",
   "metadata": {},
   "source": [
    "## Types of Constructor\n",
    "    Constructor Type------------------Description\n",
    "    Default Constructor---------------Doesn't take any arguments\n",
    "    Parameterized Constructor---------Takes arguments\n",
    "    Copy Constructor------------------Copies data of one object to another"
   ]
  },
  {
   "cell_type": "markdown",
   "id": "951d2ac2",
   "metadata": {},
   "source": [
    "## 1. Default Constructor"
   ]
  },
  {
   "cell_type": "code",
   "execution_count": 1,
   "id": "c9775890",
   "metadata": {},
   "outputs": [],
   "source": [
    "class Car:\n",
    "    def __init__(self):\n",
    "        print(\"Default Constructor Called\")\n",
    "\n",
    "obj = Car()\n"
   ]
  },
  {
   "cell_type": "markdown",
   "id": "6b280c6c",
   "metadata": {},
   "source": [
    "## 2. Parameterized Constructor"
   ]
  },
  {
   "cell_type": "code",
   "execution_count": 2,
   "id": "ac3112d4",
   "metadata": {},
   "outputs": [],
   "source": [
    "class Car:\n",
    "    def __init__(self, brand, price):\n",
    "        self.brand = brand\n",
    "        self.price = price\n",
    "\n",
    "obj = Car(\"Tesla\", 5000000)\n",
    "print(obj.brand)   # Output: Tesla"
   ]
  },
  {
   "cell_type": "markdown",
   "id": "ade65c3c",
   "metadata": {},
   "source": [
    "## 3. Copy Constructor"
   ]
  },
  {
   "cell_type": "code",
   "execution_count": 3,
   "id": "e10ff712",
   "metadata": {},
   "outputs": [],
   "source": [
    "class Car:\n",
    "    def __init__(self, brand):\n",
    "        self.brand = brand\n",
    "\n",
    "# Original Object\n",
    "obj1 = Car(\"BMW\")\n",
    "\n",
    "# Copying Data to Another Object\n",
    "obj2 = obj1\n",
    "\n",
    "print(obj2.brand)   # Output: BMW\n"
   ]
  },
  {
   "cell_type": "code",
   "execution_count": null,
   "id": "69efd0ad",
   "metadata": {},
   "outputs": [],
   "source": []
  },
  {
   "cell_type": "markdown",
   "id": "a3f3bcbb",
   "metadata": {},
   "source": [
    "    Constructor------------Automatically initializes object\n",
    "    __init__() Method------Special method in Python"
   ]
  },
  {
   "cell_type": "code",
   "execution_count": null,
   "id": "d71121c8",
   "metadata": {},
   "outputs": [],
   "source": []
  }
 ],
 "metadata": {
  "kernelspec": {
   "display_name": "Python 3 (ipykernel)",
   "language": "python",
   "name": "python3"
  },
  "language_info": {
   "codemirror_mode": {
    "name": "ipython",
    "version": 3
   },
   "file_extension": ".py",
   "mimetype": "text/x-python",
   "name": "python",
   "nbconvert_exporter": "python",
   "pygments_lexer": "ipython3",
   "version": "3.11.3"
  }
 },
 "nbformat": 4,
 "nbformat_minor": 5
}
