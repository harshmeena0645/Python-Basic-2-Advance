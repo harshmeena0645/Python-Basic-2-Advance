{
 "cells": [
  {
   "cell_type": "markdown",
   "id": "8e952c21",
   "metadata": {},
   "source": [
    "# Object-Oriented Programming (OOP) \n",
    "    1️⃣ It is a programming paradigm that is based on the concept of objects and classes.\n",
    "\n",
    "    2️⃣ It allows real-world modeling using concepts like Inheritance, Polymorphism, Encapsulation, and Abstraction.\n",
    "\n",
    "    3️⃣ OOP was introduced to overcome flaws in the procedural approach to programming, such as reusability and \n",
    "        maintainability.\n",
    "\n",
    "    4️⃣ The main fundamental idea behind object-oriented programming is to combine both data and functions that operate \n",
    "        on that data into a single unit, called an object.\n",
    "\n",
    "    5️⃣ It is an approach to develop software programming.\n",
    "\n",
    "    6️⃣ Trying to simulate real-life things into your programming.\n",
    "\n",
    "    7️⃣ Modeling data."
   ]
  },
  {
   "cell_type": "markdown",
   "id": "6eb74ec0",
   "metadata": {},
   "source": [
    "## Benifits oof OOP's\n",
    "    🎯 Code Reusability---------------Use the same code multiple times through Inheritance.\n",
    "    🛡️ Data Security------------------Protect sensitive data using Encapsulation.\n",
    "    🔥 Better Code Management---------Break complex problems into Classes & Objects.\n",
    "    🚀 Real-World Modeling------------Model real-world entities like Car, Employee, Student, etc.\n",
    "    🧐 Easy Debugging & Maintenance---Clean and organized code with Polymorphism & Abstraction.\n"
   ]
  },
  {
   "cell_type": "markdown",
   "id": "b7fa3f76",
   "metadata": {},
   "source": [
    "## 4 Pillars of OOPs\n",
    "    Concept--------------Definition============================================================Example\n",
    "    \n",
    "    Inheritance----------Acquiring properties and behavior from the parent class.==============class Car(Vehicle)\n",
    "    Polymorphism---------Same function name behaving differently based on the object.==========method overloading\n",
    "    Encapsulation--------Hiding internal details and protecting data.==========================private variables\n",
    "    Abstraction----------Hiding unnecessary details and showing only the important features.===Abstract class\n"
   ]
  },
  {
   "cell_type": "markdown",
   "id": "5c4e3df6",
   "metadata": {},
   "source": [
    "## OOPs Key Concepts\n",
    "    Concept-------------Description-------------------------------------------Example in Python\n",
    "    \n",
    "    Class---------------Blueprint for creating objects.-----------------------class Car:\n",
    "    Object--------------Instance of a class.----------------------------------obj = Car()\n",
    "    Constructor---------Special method __init__() to initialize an object.----def __init__(self):\n",
    "    Method--------------Functions defined inside a class.---------------------def show(self):\n",
    "    Inheritance---------One class acquiring properties of another class.------class B(A)\n",
    "    Polymorphism--------Same method behaving differently.---------------------method overriding\n",
    "    Encapsulation-------Protecting data using private variables.--------------self.__data\n",
    "    Abstraction---------Hiding unnecessary details.---------------------------@abstractmethod\n"
   ]
  },
  {
   "cell_type": "markdown",
   "id": "b6deab02",
   "metadata": {},
   "source": [
    "## Features\n",
    "    Class --------------------class keyword\n",
    "    Object Creation-----------obj = Class()\n",
    "    Constructor---------------__init__()\n",
    "    Inheritance---------------Supports Multiple Inheritance\n",
    "    Encapsulation-------------Private variables with __     ( __private_variable )\n",
    "    Polymorphism--------------method overloading and overriding\n",
    "    Memory Management---------Automatic Garbage Collection\n",
    "    Code Simplicity-----------High\n",
    "    Abstraction---------------@abstractmethod\n",
    "    Static Method-------------@staticmethod\n",
    "    Class Method--------------@classmethod"
   ]
  },
  {
   "cell_type": "code",
   "execution_count": null,
   "id": "43b59b01",
   "metadata": {},
   "outputs": [],
   "source": [
    "# Class & Object\n",
    "class Student:\n",
    "    def __init__(self, name, age):\n",
    "        self.name = name\n",
    "        self.age = age\n",
    "        \n",
    "    def show(self):\n",
    "        print(f\"Name: {self.name}, Age: {self.age}\")\n",
    "\n",
    "# Object Creation\n",
    "obj = Student(\"Harsh\", 20)\n",
    "obj.show()\n",
    "\n",
    "# Inheritance\n",
    "class Person:\n",
    "    def __init__(self, name):\n",
    "        self.name = name\n",
    "\n",
    "class Student(Person):\n",
    "    def __init__(self, name, college):\n",
    "        super().__init__(name)\n",
    "        self.college = college\n",
    "\n",
    "obj2 = Student(\"Harsh\", \"Poornima College\")\n",
    "print(obj2.name, obj2.college)\n"
   ]
  },
  {
   "cell_type": "markdown",
   "id": "ca4a3179",
   "metadata": {},
   "source": [
    "## Real-World OOPs-Based Projects for Resume Building\n",
    "    Project Name--------------------OOP Concepts Used\n",
    "    Employee Management-------------Inheritance, Polymorphism\n",
    "    Banking System------------------Abstraction, Encapsulation\n",
    "    E-commerce Website Backend------Class, Object, Database Handling\n",
    "    Hospital Management System------Inheritance, Encapsulation"
   ]
  },
  {
   "cell_type": "code",
   "execution_count": null,
   "id": "5306f0cd",
   "metadata": {},
   "outputs": [],
   "source": []
  }
 ],
 "metadata": {
  "kernelspec": {
   "display_name": "Python 3 (ipykernel)",
   "language": "python",
   "name": "python3"
  },
  "language_info": {
   "codemirror_mode": {
    "name": "ipython",
    "version": 3
   },
   "file_extension": ".py",
   "mimetype": "text/x-python",
   "name": "python",
   "nbconvert_exporter": "python",
   "pygments_lexer": "ipython3",
   "version": "3.11.3"
  }
 },
 "nbformat": 4,
 "nbformat_minor": 5
}
