{
 "cells": [
  {
   "cell_type": "markdown",
   "id": "a20c95ba",
   "metadata": {},
   "source": [
    "# Inheritance"
   ]
  },
  {
   "cell_type": "code",
   "execution_count": 5,
   "id": "b5766526",
   "metadata": {},
   "outputs": [
    {
     "name": "stdout",
     "output_type": "stream",
     "text": [
      "I'm Car\n",
      "General Use: Transportation\n",
      "Specific use: Commute to work, vacation with family\n",
      "\n",
      "I'm Motor Cycle\n",
      "General Use: Transportation\n",
      "Specific use: Road Trip, Racing\n",
      "\n",
      "True\n",
      "False\n",
      "\n",
      "True\n",
      "False\n"
     ]
    }
   ],
   "source": [
    "class Vehicle:\n",
    "    def general_usage(self):\n",
    "        print(\"General Use: Transportation\")\n",
    "class Car(Vehicle):\n",
    "    def __init__(self):\n",
    "        print(\"I'm Car\")\n",
    "        self.wheels=4\n",
    "        self.has_roof=True\n",
    "    def specific_usage(self):\n",
    "        print(\"Specific use: Commute to work, vacation with family\")\n",
    "class MotorCycle(Vehicle):\n",
    "    def __init__(self):\n",
    "        print(\"I'm Motor Cycle\")\n",
    "        self.wheels=2\n",
    "        self.has_roof=False\n",
    "    def specific_usage(self):\n",
    "        print(\"Specific use: Road Trip, Racing\")\n",
    "c=Car()\n",
    "c.general_usage()\n",
    "c.specific_usage()\n",
    "print()\n",
    "m=MotorCycle()\n",
    "m.general_usage()\n",
    "m.specific_usage()\n",
    "print()\n",
    "print(isinstance(c,Car))\n",
    "print(isinstance(c,MotorCycle))\n",
    "print()\n",
    "print(issubclass(Car,Vehicle))\n",
    "print(issubclass(Car,MotorCycle))      # Siblings"
   ]
  },
  {
   "cell_type": "code",
   "execution_count": null,
   "id": "d854268c",
   "metadata": {},
   "outputs": [],
   "source": []
  },
  {
   "cell_type": "markdown",
   "id": "f5352865",
   "metadata": {},
   "source": [
    "# Multiple Inheritance"
   ]
  },
  {
   "cell_type": "code",
   "execution_count": 1,
   "id": "cc8f28a0",
   "metadata": {},
   "outputs": [
    {
     "name": "stdout",
     "output_type": "stream",
     "text": [
      "I enjoy gardening\n",
      "I enjoy cooking\n",
      "I enjoy sports\n"
     ]
    }
   ],
   "source": [
    "class Father():\n",
    "    def gardening(self):\n",
    "        print(\"I enjoy gardening\")\n",
    "class Mother():\n",
    "    def cooking(self):\n",
    "        print(\"I enjoy cooking\")\n",
    "class Child(Father,Mother):\n",
    "    def sports(self):\n",
    "        print(\"I enjoy sports\")\n",
    "\n",
    "c=Child()\n",
    "c.gardening()\n",
    "c.cooking()\n",
    "c.sports()"
   ]
  },
  {
   "cell_type": "code",
   "execution_count": 2,
   "id": "6fd71b14",
   "metadata": {},
   "outputs": [
    {
     "name": "stdout",
     "output_type": "stream",
     "text": [
      "sports,Programming\n"
     ]
    }
   ],
   "source": [
    "class Father():\n",
    "    def skills(self):\n",
    "        print(\"gardening,T.v\")\n",
    "class Mother():\n",
    "    def skills(self):\n",
    "        print(\"cooking,Art\")\n",
    "class Child(Father,Mother):\n",
    "    def skills(self):\n",
    "        print(\"sports,Programming\")\n",
    "\n",
    "c=Child()\n",
    "c.skills()"
   ]
  },
  {
   "cell_type": "code",
   "execution_count": 3,
   "id": "5af433a2",
   "metadata": {},
   "outputs": [
    {
     "name": "stdout",
     "output_type": "stream",
     "text": [
      "gardening,T.v\n",
      "cooking,Art\n",
      "sports,Programming\n"
     ]
    }
   ],
   "source": [
    "class Father():\n",
    "    def skills(self):\n",
    "        print(\"gardening,T.v\")\n",
    "class Mother():\n",
    "    def skills(self):\n",
    "        print(\"cooking,Art\")\n",
    "class Child(Father,Mother):\n",
    "    def skills(self):\n",
    "        Father.skills(self)\n",
    "        Mother.skills(self)\n",
    "        print(\"sports,Programming\")\n",
    "\n",
    "c=Child()\n",
    "c.skills()"
   ]
  },
  {
   "cell_type": "code",
   "execution_count": null,
   "id": "bcc64738",
   "metadata": {},
   "outputs": [],
   "source": []
  },
  {
   "cell_type": "code",
   "execution_count": null,
   "id": "d17ed6d2",
   "metadata": {},
   "outputs": [],
   "source": []
  }
 ],
 "metadata": {
  "kernelspec": {
   "display_name": "Python 3 (ipykernel)",
   "language": "python",
   "name": "python3"
  },
  "language_info": {
   "codemirror_mode": {
    "name": "ipython",
    "version": 3
   },
   "file_extension": ".py",
   "mimetype": "text/x-python",
   "name": "python",
   "nbconvert_exporter": "python",
   "pygments_lexer": "ipython3",
   "version": "3.11.3"
  }
 },
 "nbformat": 4,
 "nbformat_minor": 5
}
