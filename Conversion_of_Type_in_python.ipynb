{
 "cells": [
  {
   "cell_type": "markdown",
   "id": "871b13a1-2c01-4942-96f4-3c5f656447e0",
   "metadata": {},
   "source": [
    "# Type Conversion\n",
    "int()                                    \n",
    "float()                         \n",
    "complex()                         \n",
    "bool()                         \n",
    "str()                         \n",
    "bin()                         \n",
    "oct()                         \n",
    "hex()                         \n",
    "ord()                       \n",
    "chr()                       "
   ]
  },
  {
   "cell_type": "code",
   "execution_count": 1,
   "id": "cdac388e",
   "metadata": {},
   "outputs": [
    {
     "name": "stdout",
     "output_type": "stream",
     "text": [
      "5\n",
      "23\n"
     ]
    }
   ],
   "source": [
    "print(int(5.7))\n",
    "print(int(\"23\"))"
   ]
  },
  {
   "cell_type": "code",
   "execution_count": 2,
   "id": "13b66310",
   "metadata": {},
   "outputs": [
    {
     "name": "stdout",
     "output_type": "stream",
     "text": [
      "54.0\n",
      "34.0\n"
     ]
    }
   ],
   "source": [
    "print(float(54))\n",
    "print(float(\"34\"))"
   ]
  },
  {
   "cell_type": "code",
   "execution_count": 3,
   "id": "9dde5782",
   "metadata": {},
   "outputs": [
    {
     "name": "stdout",
     "output_type": "stream",
     "text": [
      "(3+4j)\n",
      "(5+2j)\n"
     ]
    }
   ],
   "source": [
    "print(complex(3,4))\n",
    "print(complex(\"5+2j\"))"
   ]
  },
  {
   "cell_type": "code",
   "execution_count": 4,
   "id": "122a311e",
   "metadata": {},
   "outputs": [
    {
     "name": "stdout",
     "output_type": "stream",
     "text": [
      "True\n",
      "False\n",
      "True\n",
      "False\n"
     ]
    }
   ],
   "source": [
    "print(bool(1))\n",
    "print(bool(0))\n",
    "print(bool(\"Hello\"))\n",
    "print(bool(\"\")) "
   ]
  },
  {
   "cell_type": "code",
   "execution_count": 5,
   "id": "2a161ae6",
   "metadata": {},
   "outputs": [
    {
     "name": "stdout",
     "output_type": "stream",
     "text": [
      "123\n",
      "True\n"
     ]
    }
   ],
   "source": [
    "print(str(123))\n",
    "print(str(True))"
   ]
  },
  {
   "cell_type": "code",
   "execution_count": 6,
   "id": "bf5b4535",
   "metadata": {},
   "outputs": [
    {
     "name": "stdout",
     "output_type": "stream",
     "text": [
      "0b1010\n"
     ]
    }
   ],
   "source": [
    "print(bin(10))"
   ]
  },
  {
   "cell_type": "code",
   "execution_count": 7,
   "id": "da34fddc",
   "metadata": {},
   "outputs": [
    {
     "name": "stdout",
     "output_type": "stream",
     "text": [
      "0o12\n"
     ]
    }
   ],
   "source": [
    "print(oct(10))"
   ]
  },
  {
   "cell_type": "code",
   "execution_count": 8,
   "id": "c0b7df4e",
   "metadata": {},
   "outputs": [
    {
     "name": "stdout",
     "output_type": "stream",
     "text": [
      "0xff\n"
     ]
    }
   ],
   "source": [
    "print(hex(255)) "
   ]
  },
  {
   "cell_type": "code",
   "execution_count": 9,
   "id": "ba96ac5e",
   "metadata": {},
   "outputs": [
    {
     "name": "stdout",
     "output_type": "stream",
     "text": [
      "10\n",
      "111\n",
      "23100\n"
     ]
    }
   ],
   "source": [
    "print(int(\"1010\", 2))\n",
    "print(int(\"157\", 8))\n",
    "print(int(\"5A3C\", 16))"
   ]
  },
  {
   "cell_type": "code",
   "execution_count": 10,
   "id": "b23c544e",
   "metadata": {},
   "outputs": [
    {
     "name": "stdout",
     "output_type": "stream",
     "text": [
      "0b101101\n",
      "0o235\n"
     ]
    }
   ],
   "source": [
    "print(bin(45))\n",
    "print(oct(157))"
   ]
  },
  {
   "cell_type": "code",
   "execution_count": 11,
   "id": "4ba3fcec",
   "metadata": {},
   "outputs": [
    {
     "name": "stdout",
     "output_type": "stream",
     "text": [
      "65\n"
     ]
    }
   ],
   "source": [
    "print(ord(\"A\"))"
   ]
  },
  {
   "cell_type": "code",
   "execution_count": 12,
   "id": "67be67c5",
   "metadata": {},
   "outputs": [
    {
     "name": "stdout",
     "output_type": "stream",
     "text": [
      "A\n"
     ]
    }
   ],
   "source": [
    "print(chr(65))"
   ]
  },
  {
   "cell_type": "code",
   "execution_count": null,
   "id": "d7d354aa",
   "metadata": {},
   "outputs": [],
   "source": []
  },
  {
   "cell_type": "code",
   "execution_count": 13,
   "id": "83e01099-df32-48fa-a8dd-f0512960969b",
   "metadata": {},
   "outputs": [
    {
     "name": "stdout",
     "output_type": "stream",
     "text": [
      "10\n"
     ]
    }
   ],
   "source": [
    "x=5+5\n",
    "print(x)"
   ]
  },
  {
   "cell_type": "code",
   "execution_count": 14,
   "id": "1f40be6c-d286-4f29-bb51-acffa6e366f9",
   "metadata": {},
   "outputs": [
    {
     "name": "stdout",
     "output_type": "stream",
     "text": [
      "68\n"
     ]
    }
   ],
   "source": [
    "v=\"6\"+\"8\"\n",
    "print(v)"
   ]
  },
  {
   "cell_type": "code",
   "execution_count": 15,
   "id": "45ae506a-6129-48f1-b6a1-b59f9ce72fd6",
   "metadata": {},
   "outputs": [
    {
     "name": "stdout",
     "output_type": "stream",
     "text": [
      "9\n"
     ]
    }
   ],
   "source": [
    "a=5+int(\"4\")\n",
    "print(a)"
   ]
  },
  {
   "cell_type": "markdown",
   "id": "2a9add59-7985-4578-bc72-0a3512813288",
   "metadata": {},
   "source": [
    "y=\"4\"+5                         \n",
    "print(y)                         \n",
    "                         \n",
    "#Error                         "
   ]
  },
  {
   "cell_type": "code",
   "execution_count": 16,
   "id": "25167db1-c1f6-4b1f-a8a5-4536b8521345",
   "metadata": {},
   "outputs": [
    {
     "name": "stdout",
     "output_type": "stream",
     "text": [
      "56\n"
     ]
    }
   ],
   "source": [
    "r=str(5)+\"6\"\n",
    "print(r)"
   ]
  },
  {
   "cell_type": "code",
   "execution_count": null,
   "id": "581a09f8-e735-4a82-a817-87df649556f5",
   "metadata": {},
   "outputs": [],
   "source": []
  }
 ],
 "metadata": {
  "kernelspec": {
   "display_name": "Python 3 (ipykernel)",
   "language": "python",
   "name": "python3"
  },
  "language_info": {
   "codemirror_mode": {
    "name": "ipython",
    "version": 3
   },
   "file_extension": ".py",
   "mimetype": "text/x-python",
   "name": "python",
   "nbconvert_exporter": "python",
   "pygments_lexer": "ipython3",
   "version": "3.11.3"
  }
 },
 "nbformat": 4,
 "nbformat_minor": 5
}
