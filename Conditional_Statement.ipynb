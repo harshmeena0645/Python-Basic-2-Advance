{
 "cells": [
  {
   "cell_type": "code",
   "execution_count": null,
   "id": "5e91b3e9",
   "metadata": {},
   "outputs": [],
   "source": [
    "age=int(input(\"Age:\"))\n",
    "if age>18:\n",
    "    print(\"Adult\")\n",
    "elif age==18:\n",
    "    print(\"Minor\")\n",
    "else:\n",
    "    print(\"Child\")"
   ]
  },
  {
   "cell_type": "code",
   "execution_count": null,
   "id": "22c62f29",
   "metadata": {},
   "outputs": [],
   "source": [
    "num = int(input(\"Enter number: \"))\n",
    "\n",
    "if num % 2 == 0:\n",
    "    print(str(num) + \" is even\")      # print(f\"{num} is even\")\n",
    "else:\n",
    "    print(str(num) + \" is odd\")       # print(f\"{num} is odd\")"
   ]
  },
  {
   "cell_type": "code",
   "execution_count": null,
   "id": "bc18bfaf",
   "metadata": {},
   "outputs": [],
   "source": [
    "def is_even(num):\n",
    "    if num % 2 == 0:\n",
    "        return True\n",
    "    else:\n",
    "        return False"
   ]
  },
  {
   "cell_type": "code",
   "execution_count": null,
   "id": "1cac8767",
   "metadata": {},
   "outputs": [],
   "source": [
    "is_even(1001)"
   ]
  },
  {
   "cell_type": "code",
   "execution_count": null,
   "id": "700f6ca1",
   "metadata": {},
   "outputs": [],
   "source": [
    "is_even(100)"
   ]
  },
  {
   "cell_type": "code",
   "execution_count": null,
   "id": "b2116764",
   "metadata": {},
   "outputs": [],
   "source": []
  },
  {
   "cell_type": "markdown",
   "id": "df377284",
   "metadata": {},
   "source": [
    "# list comprehesion\n",
    " It is a concise way to create lists                                 \n",
    " ls = [expression for item in iterable if condition]"
   ]
  },
  {
   "cell_type": "code",
   "execution_count": null,
   "id": "e329cdf5",
   "metadata": {},
   "outputs": [],
   "source": [
    "squares = [x**2 for x in range(10)]          # Create a list of squares\n",
    "print(squares)"
   ]
  },
  {
   "cell_type": "code",
   "execution_count": null,
   "id": "beefff64",
   "metadata": {},
   "outputs": [],
   "source": [
    "even_numbers = [x for x in range(10) if x % 2 == 0]        # Filter even numbers\n",
    "print(even_numbers)"
   ]
  },
  {
   "cell_type": "code",
   "execution_count": null,
   "id": "f69b4995",
   "metadata": {},
   "outputs": [],
   "source": [
    "words = [\"hello\", \"world\", \"python\"]        # Transform elements of a list\n",
    "upper_words = [word.upper() for word in words]\n",
    "print(upper_words)"
   ]
  },
  {
   "cell_type": "code",
   "execution_count": null,
   "id": "daacdbaf",
   "metadata": {},
   "outputs": [],
   "source": [
    "pairs = [(x, y) for x in range(3) for y in range(3)]     # Nested Loops\n",
    "print(pairs)"
   ]
  },
  {
   "cell_type": "code",
   "execution_count": null,
   "id": "9fd5b53b",
   "metadata": {},
   "outputs": [],
   "source": [
    "even_or_odd = [\"even\" if x % 2 == 0 else \"odd\" for x in range(5)]       # Conditional Expression\n",
    "print(even_or_odd)"
   ]
  },
  {
   "cell_type": "code",
   "execution_count": null,
   "id": "1d9eee21",
   "metadata": {},
   "outputs": [],
   "source": []
  },
  {
   "cell_type": "code",
   "execution_count": null,
   "id": "5b42fefe",
   "metadata": {},
   "outputs": [],
   "source": []
  }
 ],
 "metadata": {
  "kernelspec": {
   "display_name": "Python 3 (ipykernel)",
   "language": "python",
   "name": "python3"
  },
  "language_info": {
   "codemirror_mode": {
    "name": "ipython",
    "version": 3
   },
   "file_extension": ".py",
   "mimetype": "text/x-python",
   "name": "python",
   "nbconvert_exporter": "python",
   "pygments_lexer": "ipython3",
   "version": "3.11.3"
  }
 },
 "nbformat": 4,
 "nbformat_minor": 5
}
