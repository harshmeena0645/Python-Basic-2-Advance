{
 "cells": [
  {
   "cell_type": "markdown",
   "id": "5324caee",
   "metadata": {},
   "source": [
    "# 1. Two Sum"
   ]
  },
  {
   "cell_type": "code",
   "execution_count": 1,
   "id": "3b23cf6e",
   "metadata": {},
   "outputs": [
    {
     "data": {
      "text/plain": [
       "[0, 1]"
      ]
     },
     "execution_count": 1,
     "metadata": {},
     "output_type": "execute_result"
    }
   ],
   "source": [
    "class Solution(object):\n",
    "    def twoSum(self, nums, target):\n",
    "        prevMap={}\n",
    "        for i,n in enumerate(nums):\n",
    "            diff = target - n\n",
    "            if diff in prevMap:\n",
    "                return [prevMap[diff],i]\n",
    "            prevMap[n] = i\n",
    "        return\n",
    "s=Solution()\n",
    "s.twoSum([2,7,11,15],9)  #[0,1]\n",
    "s.twoSum([3,2,4],6)     #[1,2]\n",
    "s.twoSum([3,3],6)      #[0,1]"
   ]
  },
  {
   "cell_type": "markdown",
   "id": "acaf96f7",
   "metadata": {},
   "source": [
    "# 26. Remove Duplicates from Sorted Array"
   ]
  },
  {
   "cell_type": "code",
   "execution_count": 2,
   "id": "508740c9",
   "metadata": {},
   "outputs": [],
   "source": [
    "class Solution(object):\n",
    "    def removeDuplicates(self, nums):\n",
    "        if not nums:\n",
    "            return 0\n",
    "        i = 0\n",
    "        for j in range(1, len(nums)):\n",
    "            if nums[j] != nums[i]:\n",
    "                i += 1\n",
    "                nums[i] = nums[j]\n",
    "        return i + 1\n",
    "    \n",
    "# Input: nums = [1,1,2]\n",
    "# Output: 2, nums = [1,2,_]\n",
    "# Input: nums = [0,0,1,1,1,2,2,3,3,4]\n",
    "# Output: 5, nums = [0,1,2,3,4,_,_,_,_,_]"
   ]
  },
  {
   "cell_type": "markdown",
   "id": "e8a500ac",
   "metadata": {},
   "source": [
    "# 27. Remove Element"
   ]
  },
  {
   "cell_type": "code",
   "execution_count": 8,
   "id": "b0497655",
   "metadata": {},
   "outputs": [],
   "source": [
    "class Solution(object):\n",
    "    def removeElement(self, nums, val):\n",
    "        i = 0\n",
    "        for j in range(len(nums)):\n",
    "            if nums[j] != val:\n",
    "                nums[i] = nums[j]\n",
    "                i += 1\n",
    "        return i\n",
    "    \n",
    "# Input: nums = [3,2,2,3], val = 3\n",
    "# Output: 2, nums = [2,2,_,_]\n",
    "# Input: nums = [0,1,2,2,3,0,4,2], val = 2\n",
    "# Output: 5, nums = [0,1,4,0,3,_,_,_]"
   ]
  },
  {
   "cell_type": "markdown",
   "id": "92b72c32",
   "metadata": {},
   "source": [
    "# 35. Search Insert Position"
   ]
  },
  {
   "cell_type": "code",
   "execution_count": 9,
   "id": "9b6b0175",
   "metadata": {},
   "outputs": [],
   "source": [
    "class Solution(object):\n",
    "    def searchInsert(self, nums, target):\n",
    "        left, right = 0, len(nums)\n",
    "        while left < right:\n",
    "            mid = (left + right) // 2\n",
    "            if nums[mid] < target:\n",
    "                left = mid + 1\n",
    "            else:\n",
    "                right = mid\n",
    "        return left\n",
    "\n",
    "# Input: nums = [1,3,5,6], target = 5\n",
    "# Output: 2\n",
    "# Input: nums = [1,3,5,6], target = 2\n",
    "# Output: 1\n",
    "# Input: nums = [1,3,5,6], target = 7\n",
    "# Output: 4"
   ]
  },
  {
   "cell_type": "markdown",
   "id": "5312a708",
   "metadata": {},
   "source": [
    "# 66. Plus One"
   ]
  },
  {
   "cell_type": "code",
   "execution_count": 10,
   "id": "8f78f4c2",
   "metadata": {},
   "outputs": [],
   "source": [
    "class Solution(object):\n",
    "    def plusOne(self, digits):\n",
    "        n = len(digits)\n",
    "        for i in range(n-1, -1, -1):\n",
    "            if digits[i] < 9:\n",
    "                digits[i] += 1\n",
    "                return digits\n",
    "            digits[i] = 0\n",
    "        return [1] + digits\n",
    "    \n",
    "# Input: digits = [1,2,3]\n",
    "# Output: [1,2,4]\n",
    "# Input: digits = [4,3,2,1]\n",
    "# Output: [4,3,2,2]\n",
    "# Input: digits = [9]\n",
    "# Output: [1,0]"
   ]
  },
  {
   "cell_type": "markdown",
   "id": "02b0c7bb",
   "metadata": {},
   "source": [
    "# 88. Merge Sorted Array"
   ]
  },
  {
   "cell_type": "code",
   "execution_count": 11,
   "id": "76179628",
   "metadata": {},
   "outputs": [],
   "source": [
    "class Solution(object):\n",
    "    def merge(self, nums1, m, nums2, n):\n",
    "        i = m - 1\n",
    "        j = n - 1\n",
    "        k = m + n - 1\n",
    "        while i >= 0 and j >= 0:\n",
    "            if nums1[i] > nums2[j]:\n",
    "                nums1[k] = nums1[i]\n",
    "                i -= 1\n",
    "            else:\n",
    "                nums1[k] = nums2[j]\n",
    "                j -= 1\n",
    "            k -= 1\n",
    "        while j >= 0:\n",
    "            nums1[k] = nums2[j]\n",
    "            j -= 1\n",
    "            k -= 1\n",
    "\n",
    "# Input: nums1 = [1,2,3,0,0,0], m = 3, nums2 = [2,5,6], n = 3\n",
    "# Output: [1,2,2,3,5,6]\n",
    "# Input: nums1 = [1], m = 1, nums2 = [], n = 0\n",
    "# Output: [1]\n",
    "# Input: nums1 = [0], m = 0, nums2 = [1], n = 1\n",
    "# Output: [1]"
   ]
  },
  {
   "cell_type": "markdown",
   "id": "22bbeb5d",
   "metadata": {},
   "source": [
    "# Coin Change (Count Ways)"
   ]
  },
  {
   "cell_type": "code",
   "execution_count": 3,
   "id": "8261ee58",
   "metadata": {},
   "outputs": [],
   "source": [
    "class Solution:\n",
    "    def count(self, coins, target_sum):\n",
    "        dp = [0] * (target_sum + 1)\n",
    "        dp[0] = 1\n",
    "        for coin in coins:\n",
    "            for i in range(coin, target_sum + 1):\n",
    "                dp[i] += dp[i - coin]\n",
    "        return dp[target_sum]\n",
    "\n",
    "# Input: coins[] = [1, 2, 3], sum = 4\n",
    "# Output: 4\n",
    "# Explanation: Four Possible ways are: [1, 1, 1, 1], [1, 1, 2], [2, 2], [1, 3].\n",
    "# Input: coins[] = [2, 5, 3, 6], sum = 10\n",
    "# Output: 5\n",
    "# Explanation: Five Possible ways are: [2, 2, 2, 2, 2], [2, 2, 3, 3], [2, 2, 6], [2, 3, 5] and [5, 5].\n",
    "# Input: coins[] = [5, 10], sum = 3\n",
    "# Output: 0\n",
    "# Explanation: Since all coin denominations are greater than sum, no combination can make the target sum."
   ]
  },
  {
   "cell_type": "markdown",
   "id": "caadb6c3",
   "metadata": {},
   "source": [
    "# 118. Pascal's Triangle"
   ]
  },
  {
   "cell_type": "code",
   "execution_count": null,
   "id": "8d3ed085",
   "metadata": {},
   "outputs": [],
   "source": [
    "class Solution:\n",
    "    def generate(self, numRows):\n",
    "        result = []\n",
    "        for i in range(numRows):\n",
    "            row = [1] * (i + 1)\n",
    "            for j in range(1, i):\n",
    "                row[j] = result[i - 1][j - 1] + result[i - 1][j]\n",
    "            result.append(row)\n",
    "\n",
    "        return result\n",
    "\n",
    "Input: numRows = 5\n",
    "Output: [[1],[1,1],[1,2,1],[1,3,3,1],[1,4,6,4,1]]\n",
    "\n",
    "Input: numRows = 1\n",
    "Output: [[1]]\n",
    " "
   ]
  },
  {
   "cell_type": "markdown",
   "id": "6334b02b",
   "metadata": {},
   "source": [
    "# 119. Pascal's Triangle II"
   ]
  },
  {
   "cell_type": "code",
   "execution_count": 1,
   "id": "850b6d3e",
   "metadata": {},
   "outputs": [],
   "source": [
    "class Solution:\n",
    "    def getRow(self, rowIndex):\n",
    "        row = [1] * (rowIndex + 1)\n",
    "\n",
    "        for i in range(2, rowIndex + 1):\n",
    "            for j in range(i - 1, 0, -1):\n",
    "                row[j] += row[j - 1]\n",
    "\n",
    "        return row\n",
    "    \n",
    "# Input: rowIndex = 3\n",
    "# Output: [1,3,3,1]\n",
    "# Example 2:\n",
    "\n",
    "# Input: rowIndex = 0\n",
    "# Output: [1]\n",
    "# Example 3:\n",
    "\n",
    "# Input: rowIndex = 1\n",
    "# Output: [1,1]"
   ]
  },
  {
   "cell_type": "markdown",
   "id": "26e8776d",
   "metadata": {},
   "source": [
    "# 2560. House Robber IV"
   ]
  },
  {
   "cell_type": "code",
   "execution_count": 2,
   "id": "e59971e1",
   "metadata": {},
   "outputs": [
    {
     "name": "stdout",
     "output_type": "stream",
     "text": [
      "2\n",
      "3\n",
      "0\n",
      "-1\n"
     ]
    }
   ],
   "source": [
    "class Solution:\n",
    "    def minCoins(self, coins, target):\n",
    "        dp = [float('inf')] * (target + 1)\n",
    "        dp[0] = 0\n",
    "\n",
    "        for coin in coins:\n",
    "            for i in range(coin, target + 1):\n",
    "                dp[i] = min(dp[i], dp[i - coin] + 1)\n",
    "\n",
    "        return dp[target] if dp[target] != float('inf') else -1\n",
    "\n",
    "sol = Solution()\n",
    "print(sol.minCoins([25, 10, 5], 30))  # Output: 2\n",
    "print(sol.minCoins([9, 6, 5, 1], 19))  # Output: 3\n",
    "print(sol.minCoins([5, 1], 0))  # Output: 0\n",
    "print(sol.minCoins([4, 6, 2], 5))  # Output: -1\n"
   ]
  },
  {
   "cell_type": "markdown",
   "id": "68caec57",
   "metadata": {},
   "source": [
    "# Coin Change (Minimum Coins)"
   ]
  },
  {
   "cell_type": "code",
   "execution_count": 3,
   "id": "46d5896b",
   "metadata": {},
   "outputs": [
    {
     "name": "stdout",
     "output_type": "stream",
     "text": [
      "2\n",
      "3\n",
      "0\n",
      "-1\n"
     ]
    }
   ],
   "source": [
    "class Solution:\n",
    "    def minCoins(self, coins, total):\n",
    "        dp = [float('inf')] * (total + 1)\n",
    "        dp[0] = 0  # Base case\n",
    "\n",
    "        for coin in coins:\n",
    "            for i in range(coin, total + 1):\n",
    "                dp[i] = min(dp[i], dp[i - coin] + 1)\n",
    "\n",
    "        return dp[total] if dp[total] != float('inf') else -1\n",
    "sol = Solution()\n",
    "print(sol.minCoins([25, 10, 5], 30))  # Output: 2\n",
    "print(sol.minCoins([9, 6, 5, 1], 19))  # Output: 3\n",
    "print(sol.minCoins([5, 1], 0))  # Output: 0\n",
    "print(sol.minCoins([4, 6, 2], 5))  # Output: -1"
   ]
  },
  {
   "cell_type": "markdown",
   "id": "1e23d2eb",
   "metadata": {},
   "source": [
    "# 628. Maximum Product of Three Numbers"
   ]
  },
  {
   "cell_type": "code",
   "execution_count": 4,
   "id": "7ac3b368",
   "metadata": {},
   "outputs": [],
   "source": [
    "class Solution(object):\n",
    "    def maximumProduct(self, nums):\n",
    "        nums.sort()  # Sort the array\n",
    "        return max(nums[-1] * nums[-2] * nums[-3], nums[0] * nums[1] * nums[-1])"
   ]
  },
  {
   "cell_type": "markdown",
   "id": "5d8e959c",
   "metadata": {},
   "source": [
    "# 344. Reverse String"
   ]
  },
  {
   "cell_type": "code",
   "execution_count": 5,
   "id": "d6e2ec6a",
   "metadata": {},
   "outputs": [],
   "source": [
    "class Solution(object):\n",
    "    def reverseString(self, s):\n",
    "        left, right = 0, len(s) - 1\n",
    "        \n",
    "        while left < right:\n",
    "            s[left], s[right] = s[right], s[left]  # Swapping characters\n",
    "            left += 1\n",
    "            right -= 1"
   ]
  },
  {
   "cell_type": "markdown",
   "id": "127374d0",
   "metadata": {},
   "source": [
    "# 125. Valid Palindrome"
   ]
  },
  {
   "cell_type": "code",
   "execution_count": 6,
   "id": "63898075",
   "metadata": {},
   "outputs": [],
   "source": [
    "class Solution:\n",
    "    def isPalindrome(self, s):\n",
    "        new=\"\"\n",
    "        for i in s:\n",
    "            if i.isalnum():\n",
    "                new += i.lower()\n",
    "        return new == new[::-1]"
   ]
  },
  {
   "cell_type": "markdown",
   "id": "7194e473",
   "metadata": {},
   "source": [
    "# 53. Maximum Subarray"
   ]
  },
  {
   "cell_type": "code",
   "execution_count": 7,
   "id": "90b1a951",
   "metadata": {},
   "outputs": [],
   "source": [
    "class Solution(object):\n",
    "    def maxSubArray(self, nums):\n",
    "        current=0 \n",
    "        sum=nums[0]\n",
    "        for i in nums:\n",
    "            current+=i\n",
    "            if current>sum:\n",
    "                sum=current\n",
    "            if current < 0:\n",
    "                current=0\n",
    "        return sum"
   ]
  },
  {
   "cell_type": "markdown",
   "id": "72b1df76",
   "metadata": {},
   "source": [
    "# 242. Valid Anagram"
   ]
  },
  {
   "cell_type": "code",
   "execution_count": 8,
   "id": "e28fe362",
   "metadata": {},
   "outputs": [],
   "source": [
    "class Solution(object):\n",
    "    def isAnagram(self, s, t):\n",
    "        if len(s) != len(t):\n",
    "            return False\n",
    "        countS,countT={},{}\n",
    "        for i in range(len(s)):\n",
    "            countS[s[i]]= 1+countS.get(s[i],0)\n",
    "            countT[t[i]]= 1+countT.get(t[i],0)\n",
    "        for c in countS:\n",
    "            if countS[c] != countT.get(c,0):\n",
    "                return False\n",
    "        return True"
   ]
  },
  {
   "cell_type": "code",
   "execution_count": null,
   "id": "5e81f6b9",
   "metadata": {},
   "outputs": [],
   "source": []
  },
  {
   "cell_type": "code",
   "execution_count": null,
   "id": "04c94cbb",
   "metadata": {},
   "outputs": [],
   "source": []
  },
  {
   "cell_type": "code",
   "execution_count": null,
   "id": "51257cd6",
   "metadata": {},
   "outputs": [],
   "source": []
  }
 ],
 "metadata": {
  "kernelspec": {
   "display_name": "Python 3 (ipykernel)",
   "language": "python",
   "name": "python3"
  },
  "language_info": {
   "codemirror_mode": {
    "name": "ipython",
    "version": 3
   },
   "file_extension": ".py",
   "mimetype": "text/x-python",
   "name": "python",
   "nbconvert_exporter": "python",
   "pygments_lexer": "ipython3",
   "version": "3.11.3"
  }
 },
 "nbformat": 4,
 "nbformat_minor": 5
}
