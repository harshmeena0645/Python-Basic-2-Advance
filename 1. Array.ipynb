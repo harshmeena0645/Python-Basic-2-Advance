{
 "cells": [
  {
   "cell_type": "markdown",
   "id": "5324caee",
   "metadata": {},
   "source": [
    "# 1. Two Sum"
   ]
  },
  {
   "cell_type": "code",
   "execution_count": 6,
   "id": "3b23cf6e",
   "metadata": {},
   "outputs": [
    {
     "data": {
      "text/plain": [
       "[0, 1]"
      ]
     },
     "execution_count": 6,
     "metadata": {},
     "output_type": "execute_result"
    }
   ],
   "source": [
    "class Solution(object):\n",
    "    def twoSum(self, nums, target):\n",
    "        prevMap={}\n",
    "        for i,n in enumerate(nums):\n",
    "            diff = target - n\n",
    "            if diff in prevMap:\n",
    "                return [prevMap[diff],i]\n",
    "            prevMap[n] = i\n",
    "        return\n",
    "s=Solution()\n",
    "s.twoSum([2,7,11,15],9)  #[0,1]\n",
    "s.twoSum([3,2,4],6)     #[1,2]\n",
    "s.twoSum([3,3],6)      #[0,1]"
   ]
  },
  {
   "cell_type": "markdown",
   "id": "acaf96f7",
   "metadata": {},
   "source": [
    "# 26. Remove Duplicates from Sorted Array"
   ]
  },
  {
   "cell_type": "code",
   "execution_count": 7,
   "id": "508740c9",
   "metadata": {},
   "outputs": [],
   "source": [
    "class Solution(object):\n",
    "    def removeDuplicates(self, nums):\n",
    "        if not nums:\n",
    "            return 0\n",
    "        i = 0\n",
    "        for j in range(1, len(nums)):\n",
    "            if nums[j] != nums[i]:\n",
    "                i += 1\n",
    "                nums[i] = nums[j]\n",
    "        return i + 1\n",
    "    \n",
    "# Input: nums = [1,1,2]\n",
    "# Output: 2, nums = [1,2,_]\n",
    "# Input: nums = [0,0,1,1,1,2,2,3,3,4]\n",
    "# Output: 5, nums = [0,1,2,3,4,_,_,_,_,_]"
   ]
  },
  {
   "cell_type": "markdown",
   "id": "e8a500ac",
   "metadata": {},
   "source": [
    "# 27. Remove Element"
   ]
  },
  {
   "cell_type": "code",
   "execution_count": 8,
   "id": "b0497655",
   "metadata": {},
   "outputs": [],
   "source": [
    "class Solution(object):\n",
    "    def removeElement(self, nums, val):\n",
    "        i = 0\n",
    "        for j in range(len(nums)):\n",
    "            if nums[j] != val:\n",
    "                nums[i] = nums[j]\n",
    "                i += 1\n",
    "        return i\n",
    "    \n",
    "# Input: nums = [3,2,2,3], val = 3\n",
    "# Output: 2, nums = [2,2,_,_]\n",
    "# Input: nums = [0,1,2,2,3,0,4,2], val = 2\n",
    "# Output: 5, nums = [0,1,4,0,3,_,_,_]"
   ]
  },
  {
   "cell_type": "markdown",
   "id": "92b72c32",
   "metadata": {},
   "source": [
    "# 35. Search Insert Position"
   ]
  },
  {
   "cell_type": "code",
   "execution_count": 9,
   "id": "9b6b0175",
   "metadata": {},
   "outputs": [],
   "source": [
    "class Solution(object):\n",
    "    def searchInsert(self, nums, target):\n",
    "        left, right = 0, len(nums)\n",
    "        while left < right:\n",
    "            mid = (left + right) // 2\n",
    "            if nums[mid] < target:\n",
    "                left = mid + 1\n",
    "            else:\n",
    "                right = mid\n",
    "        return left\n",
    "\n",
    "# Input: nums = [1,3,5,6], target = 5\n",
    "# Output: 2\n",
    "# Input: nums = [1,3,5,6], target = 2\n",
    "# Output: 1\n",
    "# Input: nums = [1,3,5,6], target = 7\n",
    "# Output: 4"
   ]
  },
  {
   "cell_type": "markdown",
   "id": "5312a708",
   "metadata": {},
   "source": [
    "# 66. Plus One"
   ]
  },
  {
   "cell_type": "code",
   "execution_count": 10,
   "id": "8f78f4c2",
   "metadata": {},
   "outputs": [],
   "source": [
    "class Solution(object):\n",
    "    def plusOne(self, digits):\n",
    "        n = len(digits)\n",
    "        for i in range(n-1, -1, -1):\n",
    "            if digits[i] < 9:\n",
    "                digits[i] += 1\n",
    "                return digits\n",
    "            digits[i] = 0\n",
    "        return [1] + digits\n",
    "    \n",
    "# Input: digits = [1,2,3]\n",
    "# Output: [1,2,4]\n",
    "# Input: digits = [4,3,2,1]\n",
    "# Output: [4,3,2,2]\n",
    "# Input: digits = [9]\n",
    "# Output: [1,0]"
   ]
  },
  {
   "cell_type": "markdown",
   "id": "02b0c7bb",
   "metadata": {},
   "source": [
    "# 88. Merge Sorted Array"
   ]
  },
  {
   "cell_type": "code",
   "execution_count": 11,
   "id": "76179628",
   "metadata": {},
   "outputs": [],
   "source": [
    "class Solution(object):\n",
    "    def merge(self, nums1, m, nums2, n):\n",
    "        i = m - 1\n",
    "        j = n - 1\n",
    "        k = m + n - 1\n",
    "        while i >= 0 and j >= 0:\n",
    "            if nums1[i] > nums2[j]:\n",
    "                nums1[k] = nums1[i]\n",
    "                i -= 1\n",
    "            else:\n",
    "                nums1[k] = nums2[j]\n",
    "                j -= 1\n",
    "            k -= 1\n",
    "        while j >= 0:\n",
    "            nums1[k] = nums2[j]\n",
    "            j -= 1\n",
    "            k -= 1\n",
    "\n",
    "# Input: nums1 = [1,2,3,0,0,0], m = 3, nums2 = [2,5,6], n = 3\n",
    "# Output: [1,2,2,3,5,6]\n",
    "# Input: nums1 = [1], m = 1, nums2 = [], n = 0\n",
    "# Output: [1]\n",
    "# Input: nums1 = [0], m = 0, nums2 = [1], n = 1\n",
    "# Output: [1]"
   ]
  },
  {
   "cell_type": "code",
   "execution_count": null,
   "id": "928eff1e",
   "metadata": {},
   "outputs": [],
   "source": []
  },
  {
   "cell_type": "code",
   "execution_count": null,
   "id": "8261ee58",
   "metadata": {},
   "outputs": [],
   "source": []
  }
 ],
 "metadata": {
  "kernelspec": {
   "display_name": "Python 3 (ipykernel)",
   "language": "python",
   "name": "python3"
  },
  "language_info": {
   "codemirror_mode": {
    "name": "ipython",
    "version": 3
   },
   "file_extension": ".py",
   "mimetype": "text/x-python",
   "name": "python",
   "nbconvert_exporter": "python",
   "pygments_lexer": "ipython3",
   "version": "3.11.3"
  }
 },
 "nbformat": 4,
 "nbformat_minor": 5
}
