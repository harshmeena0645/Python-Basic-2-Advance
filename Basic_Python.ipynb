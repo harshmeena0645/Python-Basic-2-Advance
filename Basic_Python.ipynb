{
 "cells": [
  {
   "cell_type": "code",
   "execution_count": null,
   "id": "da6a8ba7",
   "metadata": {},
   "outputs": [],
   "source": [
    "print(\"Hello World\")"
   ]
  },
  {
   "cell_type": "code",
   "execution_count": null,
   "id": "d7504d48",
   "metadata": {},
   "outputs": [],
   "source": [
    "print(10+2*3)                           #Python work on mathematical method"
   ]
  },
  {
   "cell_type": "code",
   "execution_count": null,
   "id": "96ea1aa7",
   "metadata": {},
   "outputs": [],
   "source": [
    "a,b,c=4,5,6\n",
    "print(a,b,c,sep=\"-\")"
   ]
  },
  {
   "cell_type": "code",
   "execution_count": 4,
   "id": "0e260466",
   "metadata": {},
   "outputs": [
    {
     "name": "stdout",
     "output_type": "stream",
     "text": [
      "4 5 6#"
     ]
    }
   ],
   "source": [
    "a,b,c=4,5,6\n",
    "print(a,b,c,end=\"#\")"
   ]
  },
  {
   "cell_type": "code",
   "execution_count": 5,
   "id": "84e4046e",
   "metadata": {},
   "outputs": [
    {
     "name": "stdout",
     "output_type": "stream",
     "text": [
      "HARSH MEENA\n",
      "harsh meena\n",
      "6\n",
      "-1\n",
      "Harsh Teena\n",
      "Ram Meena\n",
      "Harsh Meena\n",
      "True\n",
      "False\n",
      "True\n",
      "False\n"
     ]
    }
   ],
   "source": [
    "name=\"Harsh Meena\"\n",
    "print(name.upper())\n",
    "print(name.lower())\n",
    "print(name.find('M'))\n",
    "print(name.find('m'))\n",
    "print(name.replace('M','T'))\n",
    "print(name.replace(\"Harsh\",\"Ram\"))\n",
    "print(name.replace('S','R'))\n",
    "print('H' in name)\n",
    "print('A' in name)\n",
    "print(\"Meena\" in name)\n",
    "print(\"Harsh\" not in name)"
   ]
  },
  {
   "cell_type": "code",
   "execution_count": null,
   "id": "32de4e56",
   "metadata": {},
   "outputs": [],
   "source": []
  },
  {
   "cell_type": "markdown",
   "id": "852d365f",
   "metadata": {},
   "source": [
    "# Range"
   ]
  },
  {
   "cell_type": "code",
   "execution_count": 6,
   "id": "40766201",
   "metadata": {},
   "outputs": [
    {
     "name": "stdout",
     "output_type": "stream",
     "text": [
      "1 2 3 4 5 6 7 8 9 10 11 12 13 14 15 16 17 18 19 20 21 22 23 24 25 26 27 28 29 30 31 32 33 34 35 36 37 38 39 40 41 42 43 44 45 46 47 48 49 50 51 52 53 54 55 56 57 58 59 60 61 62 63 64 65 66 67 68 69 70 71 72 73 74 75 76 77 78 79 80 81 82 83 84 85 86 87 88 89 90 91 92 93 94 95 96 97 98 99 100 "
     ]
    }
   ],
   "source": [
    "ls = []\n",
    "for i in range(1,101):\n",
    "    print(i, end=\" \")\n",
    "    ls.append(i)"
   ]
  },
  {
   "cell_type": "code",
   "execution_count": 7,
   "id": "11affc03",
   "metadata": {},
   "outputs": [
    {
     "name": "stdout",
     "output_type": "stream",
     "text": [
      "[1, 2, 3, 4, 5, 6, 7, 8, 9, 10, 11, 12, 13, 14, 15, 16, 17, 18, 19, 20, 21, 22, 23, 24, 25, 26, 27, 28, 29, 30, 31, 32, 33, 34, 35, 36, 37, 38, 39, 40, 41, 42, 43, 44, 45, 46, 47, 48, 49, 50, 51, 52, 53, 54, 55, 56, 57, 58, 59, 60, 61, 62, 63, 64, 65, 66, 67, 68, 69, 70, 71, 72, 73, 74, 75, 76, 77, 78, 79, 80, 81, 82, 83, 84, 85, 86, 87, 88, 89, 90, 91, 92, 93, 94, 95, 96, 97, 98, 99, 100]\n"
     ]
    }
   ],
   "source": [
    "print(ls)"
   ]
  },
  {
   "cell_type": "markdown",
   "id": "abf4da02",
   "metadata": {},
   "source": [
    "# Loops\n",
    "for:                       \n",
    "    for iterating_variable in sequence:                \n",
    "    statement - 1                 \n",
    "                    \n",
    "while:                 \n",
    "                \n",
    "Control Flow Statements:                \n",
    "                        --> break      (Jump not in python)                \n",
    "                        --> continue   (Skip not in python)                \n",
    "                        --> pass                "
   ]
  },
  {
   "cell_type": "code",
   "execution_count": 8,
   "id": "98586508",
   "metadata": {},
   "outputs": [
    {
     "name": "stdout",
     "output_type": "stream",
     "text": [
      "1 2 3 4 5 6 7 8 9 10 "
     ]
    }
   ],
   "source": [
    "i = 1\n",
    "while i <= 10:\n",
    "    print(i, end=\" \") \n",
    "    i += 1"
   ]
  },
  {
   "cell_type": "code",
   "execution_count": 9,
   "id": "7a4e74b1",
   "metadata": {},
   "outputs": [
    {
     "name": "stdout",
     "output_type": "stream",
     "text": [
      "1\n",
      "3\n",
      "5\n",
      "7\n",
      "9\n"
     ]
    }
   ],
   "source": [
    "for i in range(1,10,2):\n",
    "    print(i)"
   ]
  },
  {
   "cell_type": "code",
   "execution_count": null,
   "id": "ac951529",
   "metadata": {},
   "outputs": [],
   "source": [
    "n=int(input(\"Number:\"))\n",
    "for i in range(1,n+1):\n",
    "    print(i * '*')"
   ]
  },
  {
   "cell_type": "markdown",
   "id": "63612727",
   "metadata": {},
   "source": [
    "# break\n",
    "used to exit a loop"
   ]
  },
  {
   "cell_type": "code",
   "execution_count": null,
   "id": "7a2d4340",
   "metadata": {},
   "outputs": [],
   "source": [
    "i = 1\n",
    "while i <= 10:\n",
    "    print(i, end=\" \")\n",
    "    if i == 5:\n",
    "        break\n",
    "    i += 1"
   ]
  },
  {
   "cell_type": "markdown",
   "id": "fd57773e",
   "metadata": {},
   "source": [
    "# continue\n",
    "skips the rest of the code in the current loop"
   ]
  },
  {
   "cell_type": "code",
   "execution_count": 13,
   "id": "5c188bd1",
   "metadata": {},
   "outputs": [
    {
     "name": "stdout",
     "output_type": "stream",
     "text": [
      "1 2 3 4 6 7 8 9 10 11 "
     ]
    }
   ],
   "source": [
    "i = 0\n",
    "while i <= 10:\n",
    "    i += 1\n",
    "    if i == 5:\n",
    "        continue\n",
    "    print(i,end=\" \")"
   ]
  },
  {
   "cell_type": "markdown",
   "id": "f623ae2b",
   "metadata": {},
   "source": [
    "# pass\n",
    "Does nothing, just a placeholder"
   ]
  },
  {
   "cell_type": "code",
   "execution_count": 14,
   "id": "458c714d",
   "metadata": {},
   "outputs": [
    {
     "name": "stdout",
     "output_type": "stream",
     "text": [
      "1 2 3 4 5 6 7 8 9 10 "
     ]
    }
   ],
   "source": [
    "i = 0\n",
    "while i < 10:\n",
    "    i += 1\n",
    "    if i == 5:\n",
    "        pass\n",
    "    print(i,end=\" \")"
   ]
  },
  {
   "cell_type": "code",
   "execution_count": 16,
   "id": "eba1e5af",
   "metadata": {},
   "outputs": [],
   "source": [
    "ls = [\"arayan\", \"karan\", \"piyush\", \"kapil\", \"charu\", \"shivanjali\", \"mohit\"]"
   ]
  },
  {
   "cell_type": "code",
   "execution_count": 1,
   "id": "8c608a6c",
   "metadata": {},
   "outputs": [],
   "source": [
    "ls = [1,2,3,4,5,6,7,8,9,10]\n",
    "tp = (1,2,3,4,5,6,7,8,9,10)\n",
    "st = \"python is awesome\"\n",
    "dt = {\"name\":\"kismat\", \"course\":\"python\", \"city\":\"jaipur\"}\n",
    "st1 = {1,2,3,4,5}"
   ]
  },
  {
   "cell_type": "code",
   "execution_count": 17,
   "id": "45b65f88",
   "metadata": {},
   "outputs": [
    {
     "data": {
      "text/plain": [
       "True"
      ]
     },
     "execution_count": 17,
     "metadata": {},
     "output_type": "execute_result"
    }
   ],
   "source": [
    "\"charu\" in ls"
   ]
  },
  {
   "cell_type": "code",
   "execution_count": 19,
   "id": "205373a8",
   "metadata": {},
   "outputs": [
    {
     "name": "stdout",
     "output_type": "stream",
     "text": [
      "arayan\n",
      "karan\n",
      "piyush\n"
     ]
    }
   ],
   "source": [
    "for i in ls:\n",
    "    if i == \"kapil\":\n",
    "        break\n",
    "    print(i)"
   ]
  },
  {
   "cell_type": "code",
   "execution_count": 21,
   "id": "bd79ddb4",
   "metadata": {},
   "outputs": [
    {
     "name": "stdout",
     "output_type": "stream",
     "text": [
      "[7, 9, 11, 13]\n"
     ]
    }
   ],
   "source": [
    "l1=[1,2,3,4]\n",
    "l2=[6,7,8,9]\n",
    "l3=[]\n",
    "for i in range(len(l1)):\n",
    "    a=l1[i]+l2[i]\n",
    "    l3.append(a)\n",
    "print(l3)"
   ]
  },
  {
   "cell_type": "code",
   "execution_count": 22,
   "id": "fe1f9c44",
   "metadata": {},
   "outputs": [
    {
     "name": "stdout",
     "output_type": "stream",
     "text": [
      "[[1, 2, 3], [1, 2, 3], [1, 2, 3], [1, 2, 3]]\n"
     ]
    }
   ],
   "source": [
    "ls2 = [[i for i in range(1,4)] for j in range(1,5)]\n",
    "print(ls2)"
   ]
  },
  {
   "cell_type": "code",
   "execution_count": null,
   "id": "40eabaab",
   "metadata": {},
   "outputs": [],
   "source": []
  },
  {
   "cell_type": "markdown",
   "id": "f6399fd3",
   "metadata": {},
   "source": [
    "s = \"my no is:\"                # Error              \n",
    "num = int(\"25\")              \n",
    "print(s + num)              \n",
    "print(s , num)              "
   ]
  },
  {
   "cell_type": "markdown",
   "id": "e74c5eed",
   "metadata": {},
   "source": [
    "Real: hii harsh meena                         \n",
    "Upper case: HII HARSH MEENA           \n",
    "Lower case: hii harsh meena             \n",
    "Capitalized: Hii harsh meena            \n",
    "Title case: Hii Harsh Meena   "
   ]
  },
  {
   "cell_type": "code",
   "execution_count": null,
   "id": "a294ada7",
   "metadata": {},
   "outputs": [],
   "source": []
  }
 ],
 "metadata": {
  "kernelspec": {
   "display_name": "Python 3 (ipykernel)",
   "language": "python",
   "name": "python3"
  },
  "language_info": {
   "codemirror_mode": {
    "name": "ipython",
    "version": 3
   },
   "file_extension": ".py",
   "mimetype": "text/x-python",
   "name": "python",
   "nbconvert_exporter": "python",
   "pygments_lexer": "ipython3",
   "version": "3.11.3"
  }
 },
 "nbformat": 4,
 "nbformat_minor": 5
}
